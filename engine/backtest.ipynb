{
 "cells": [
  {
   "cell_type": "code",
   "execution_count": 25,
   "id": "7edb2f83-97e8-4489-86ab-6d98ae0430ed",
   "metadata": {},
   "outputs": [
    {
     "name": "stdout",
     "output_type": "stream",
     "text": [
      "Working directory: C:\\Users\\Alqama\\quant_trading_engine\n",
      "Available folders: ['.ipynb_checkpoints', 'engine', 'risk_management', 'strategies']\n"
     ]
    }
   ],
   "source": [
    "import sys\n",
    "import os\n",
    "\n",
    "# Add the current project directory to Python path\n",
    "current_dir = os.getcwd()\n",
    "if current_dir not in sys.path:\n",
    "    sys.path.insert(0, current_dir)\n",
    "\n",
    "print(f\"Working directory: {current_dir}\")\n",
    "print(\"Available folders:\", [f for f in os.listdir('.') if os.path.isdir(f)])"
   ]
  },
  {
   "cell_type": "code",
   "execution_count": 27,
   "id": "86fc99c7-0af4-4b8a-81da-08183a25744e",
   "metadata": {},
   "outputs": [],
   "source": [
    "import yfinance as yf\n",
    "import pandas as pd\n",
    "import numpy as np"
   ]
  },
  {
   "cell_type": "code",
   "execution_count": 17,
   "id": "900bd714-142a-496c-b4dd-1fdff6a4c2a9",
   "metadata": {},
   "outputs": [
    {
     "name": "stdout",
     "output_type": "stream",
     "text": [
      "Current working directory: C:\\Users\\Alqama\\quant_trading_engine\n",
      "\n",
      "Contents of current directory:\n",
      "📁 .ipynb_checkpoints/\n",
      "   📄 trading_backtest-checkpoint.ipynb\n",
      "📁 engine/\n",
      "   📄 .ipynb_checkpoints\n",
      "   📄 backtest.py\n",
      "   📄 __init__.py\n",
      "   📄 __pycache__\n",
      "📁 risk_management/\n",
      "   📄 .ipynb_checkpoints\n",
      "   📄 drawdown.py\n",
      "   📄 position_sizing.py\n",
      "   📄 __init__.py\n",
      "📁 strategies/\n",
      "   📄 .ipynb_checkpoints\n",
      "   📄 mean_reversion.py\n",
      "   📄 momentum_strategy.py\n",
      "   📄 pairs_trading_strategy.py\n",
      "   📄 __init__.py\n",
      "📄 trading_backtest.ipynb\n",
      "\n",
      "Python path includes:\n",
      "  C:\\Users\\Alqama\\quant_trading_engine\n",
      "  C:\\Users\\Alqama\\anaconda3\\python312.zip\n",
      "  C:\\Users\\Alqama\\anaconda3\\DLLs\n",
      "  C:\\Users\\Alqama\\anaconda3\\Lib\n",
      "  C:\\Users\\Alqama\\anaconda3\n",
      "  \n",
      "  C:\\Users\\Alqama\\anaconda3\\Lib\\site-packages\n",
      "  C:\\Users\\Alqama\\anaconda3\\Lib\\site-packages\\win32\n",
      "  C:\\Users\\Alqama\\anaconda3\\Lib\\site-packages\\win32\\lib\n",
      "  C:\\Users\\Alqama\\anaconda3\\Lib\\site-packages\\Pythonwin\n"
     ]
    }
   ],
   "source": [
    "import os\n",
    "import sys\n",
    "\n",
    "print(\"Current working directory:\", os.getcwd())\n",
    "print(\"\\nContents of current directory:\")\n",
    "for item in os.listdir('.'):\n",
    "    if os.path.isdir(item):\n",
    "        print(f\"📁 {item}/\")\n",
    "        # Show contents of each subdirectory\n",
    "        try:\n",
    "            sub_items = os.listdir(item)\n",
    "            for sub_item in sub_items:\n",
    "                print(f\"   📄 {sub_item}\")\n",
    "        except:\n",
    "            pass\n",
    "    else:\n",
    "        print(f\"📄 {item}\")\n",
    "\n",
    "print(f\"\\nPython path includes:\")\n",
    "for path in sys.path:\n",
    "    print(f\"  {path}\")"
   ]
  },
  {
   "cell_type": "code",
   "execution_count": 23,
   "id": "dbabfb49-ddfa-4cd7-94f6-dd4dd99415c4",
   "metadata": {},
   "outputs": [
    {
     "name": "stdout",
     "output_type": "stream",
     "text": [
      "❌ BacktestEngine class NOT found in engine/backtest.py\n",
      "First 500 characters of file:\n",
      "{\n",
      " \"cells\": [\n",
      "  {\n",
      "   \"cell_type\": \"code\",\n",
      "   \"execution_count\": 1,\n",
      "   \"id\": \"6416af59-0c99-4ea8-9667-cf41c923a6d0\",\n",
      "   \"metadata\": {},\n",
      "   \"outputs\": [\n",
      "    {\n",
      "     \"ename\": \"ModuleNotFoundError\",\n",
      "     \"evalue\": \"No module named 'risk_management'\",\n",
      "     \"output_type\": \"error\",\n",
      "     \"traceback\": [\n",
      "      \"\\u001b[1;31m---------------------------------------------------------------------------\\u001b[0m\",\n",
      "      \"\\u001b[1;31mModuleNotFoundError\\u001b[0m                       Traceback (most recent call l\n",
      "❌ Error reading strategies/momentum.py: [Errno 2] No such file or directory: 'strategies/momentum.py'\n"
     ]
    }
   ],
   "source": [
    "try:\n",
    "    with open('engine/backtest.py', 'r') as f:\n",
    "        content = f.read()\n",
    "        if 'class BacktestEngine' in content:\n",
    "            print(\"✅ BacktestEngine class found in engine/backtest.py\")\n",
    "        else:\n",
    "            print(\"❌ BacktestEngine class NOT found in engine/backtest.py\")\n",
    "            print(\"First 500 characters of file:\")\n",
    "            print(content[:500])\n",
    "except Exception as e:\n",
    "    print(f\"❌ Error reading engine/backtest.py: {e}\")\n",
    "try:\n",
    "    with open('strategies/momentum.py', 'r') as f:\n",
    "        content = f.read()\n",
    "        if 'class MomentumStrategy' in content:\n",
    "            print(\"✅ MomentumStrategy class found in strategies/momentum.py\")\n",
    "        else:\n",
    "            print(\"❌ MomentumStrategy class NOT found in strategies/momentum.py\")\n",
    "            print(\"First 500 characters of file:\")\n",
    "            print(content[:500])\n",
    "except Exception as e:\n",
    "    print(f\"❌ Error reading strategies/momentum.py: {e}\")"
   ]
  },
  {
   "cell_type": "code",
   "execution_count": 29,
   "id": "ade43940-1b64-46d8-bd47-e8d0a18a75d2",
   "metadata": {},
   "outputs": [],
   "source": [
    "import yfinance as yf\n",
    "\n",
    "class BacktestEngine:\n",
    "    def __init__(self, ticker, start_date, end_date, strategy, initial_cash=100_000):\n",
    "        self.ticker = ticker\n",
    "        self.start_date = start_date\n",
    "        self.end_date = end_date\n",
    "        self.strategy = strategy\n",
    "        self.initial_cash = initial_cash\n",
    "        self.results = None\n",
    "        self._prepare_data()\n",
    "\n",
    "    def _prepare_data(self):\n",
    "        df = yf.download(self.ticker, start=self.start_date, end=self.end_date)[['Adj Close']].copy()\n",
    "        df.columns = ['price']\n",
    "        df.dropna(inplace=True)\n",
    "\n",
    "        df = self.strategy.generate_signals(df)\n",
    "        df['returns'] = df['price'].pct_change()\n",
    "        df['strategy'] = df['position'].shift(1) * df['returns']\n",
    "        df.dropna(inplace=True)\n",
    "\n",
    "        df['equity_curve'] = self.initial_cash * (1 + df['strategy']).cumprod()\n",
    "        df['buy_hold'] = self.initial_cash * (1 + df['returns']).cumprod()\n",
    "        self.results = df\n",
    "\n",
    "    def plot_performance(self):\n",
    "        if self.results is not None:\n",
    "            self.results[['equity_curve', 'buy_hold']].plot(figsize=(12, 6), title=f\"{self.ticker} Strategy Backtest\")"
   ]
  },
  {
   "cell_type": "code",
   "execution_count": null,
   "id": "99759ee8-4602-4ba5-b11b-ef67ab576cf5",
   "metadata": {},
   "outputs": [],
   "source": []
  }
 ],
 "metadata": {
  "kernelspec": {
   "display_name": "Python 3 (ipykernel)",
   "language": "python",
   "name": "python3"
  },
  "language_info": {
   "codemirror_mode": {
    "name": "ipython",
    "version": 3
   },
   "file_extension": ".py",
   "mimetype": "text/x-python",
   "name": "python",
   "nbconvert_exporter": "python",
   "pygments_lexer": "ipython3",
   "version": "3.12.4"
  }
 },
 "nbformat": 4,
 "nbformat_minor": 5
}
