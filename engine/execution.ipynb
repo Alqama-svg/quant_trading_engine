{
 "cells": [
  {
   "cell_type": "code",
   "execution_count": 1,
   "id": "6589a07b-0723-4f8e-9e42-890ca16b87da",
   "metadata": {},
   "outputs": [],
   "source": [
    "import yfinance as yf\n",
    "import pandas as pd\n",
    "import numpy as np\n",
    "import seaborn as sns\n",
    "import matplotlib.pyplot as plt\n",
    "sns.set()"
   ]
  },
  {
   "cell_type": "code",
   "execution_count": 2,
   "id": "12a86e6b-f3db-46c9-ae44-a3dc524669e3",
   "metadata": {},
   "outputs": [],
   "source": [
    "# engine/execution.py\n",
    "\n",
    "class ExecutionSimulator:\n",
    "    def __init__(self, slippage=0.0005, fee=0.0005):\n",
    "        self.slippage = slippage\n",
    "        self.fee = fee\n",
    "\n",
    "    def adjust_returns(self, df):\n",
    "        df = df.copy()\n",
    "        df['trades'] = df['position'].diff().abs().fillna(0)\n",
    "        df['net_strategy'] = df['strategy'] - df['trades'] * (self.slippage + self.fee)\n",
    "        df['equity_curve'] = 100_000 * (1 + df['net_strategy']).cumprod()\n",
    "        return df"
   ]
  },
  {
   "cell_type": "code",
   "execution_count": null,
   "id": "b92d066c-60d6-48a4-8ba0-462b85fa57c5",
   "metadata": {},
   "outputs": [],
   "source": []
  }
 ],
 "metadata": {
  "kernelspec": {
   "display_name": "Python (tf_env)",
   "language": "python",
   "name": "tf_env"
  },
  "language_info": {
   "codemirror_mode": {
    "name": "ipython",
    "version": 3
   },
   "file_extension": ".py",
   "mimetype": "text/x-python",
   "name": "python",
   "nbconvert_exporter": "python",
   "pygments_lexer": "ipython3",
   "version": "3.10.18"
  }
 },
 "nbformat": 4,
 "nbformat_minor": 5
}
