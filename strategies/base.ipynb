{
 "cells": [
  {
   "cell_type": "code",
   "execution_count": 1,
   "id": "73fdb8b0-8582-47d1-87c4-788aa0da4b0f",
   "metadata": {},
   "outputs": [],
   "source": [
    "class Strategy:\n",
    "    def generate_signals(self, df):\n",
    "        raise NotImplementedError(\"generate_signals must be implemented by the strategy.\")"
   ]
  }
 ],
 "metadata": {
  "kernelspec": {
   "display_name": "Python (tf_env)",
   "language": "python",
   "name": "tf_env"
  },
  "language_info": {
   "codemirror_mode": {
    "name": "ipython",
    "version": 3
   },
   "file_extension": ".py",
   "mimetype": "text/x-python",
   "name": "python",
   "nbconvert_exporter": "python",
   "pygments_lexer": "ipython3",
   "version": "3.10.18"
  }
 },
 "nbformat": 4,
 "nbformat_minor": 5
}
