{
 "cells": [
  {
   "cell_type": "code",
   "execution_count": 1,
   "id": "c9be0ed5-3e07-450b-8fa2-ed710f77f14a",
   "metadata": {},
   "outputs": [],
   "source": [
    "import yfinance as yf\n",
    "import pandas as pd\n",
    "import numpy as np\n",
    "import seaborn as sns\n",
    "import matplotlib.pyplot as plt\n",
    "sns.set()"
   ]
  },
  {
   "cell_type": "code",
   "execution_count": 2,
   "id": "b84901cf-6bac-44be-9307-4be310dda9e1",
   "metadata": {},
   "outputs": [
    {
     "name": "stderr",
     "output_type": "stream",
     "text": [
      "C:\\Users\\Alqama\\AppData\\Local\\Temp\\ipykernel_20420\\3778674705.py:2: FutureWarning: YF.download() has changed argument auto_adjust default to True\n",
      "  df = yf.download(ticker, start='2020-01-01', end='2024-12-31')[['Close']]\n",
      "[*********************100%***********************]  1 of 1 completed\n"
     ]
    }
   ],
   "source": [
    "ticker = 'AAPL'\n",
    "df = yf.download(ticker, start='2020-01-01', end='2024-12-31')[['Close']]\n",
    "df.columns = ['price']\n",
    "\n",
    "window = 50\n",
    "df['ma'] = df['price'].rolling(50).mean()\n",
    "df['position'] = np.where(df['price'] > df['ma'], 1, -1)\n",
    "df['returns'] = df['price'].pct_change()\n",
    "df['strategy'] = df['position'].shift(1) * df['returns']\n",
    "df.dropna(inplace=True)"
   ]
  },
  {
   "cell_type": "code",
   "execution_count": 14,
   "id": "8dc25cab-61a5-4bf2-95f3-779bac6d04c7",
   "metadata": {},
   "outputs": [],
   "source": [
    "#t-Test\n",
    "\n",
    "from scipy import stats\n",
    "\n",
    "class StrategyAnalytics:\n",
    "    def __init__(self, df, return_col='strategy', risk_free_rate=0.0):\n",
    "        self.df = df.copy()\n",
    "        self.returns = self.df[return_col]\n",
    "        self.rfr = risk_free_rate\n",
    "\n",
    "    def total_return(self):\n",
    "        return (1 + self.returns).prod() - 1\n",
    "\n",
    "    def annualized_return(self):\n",
    "        return (1 + self.total_return()) ** (252 / len(self.returns)) - 1\n",
    "\n",
    "    def annualized_volatility(self):\n",
    "        return self.returns.std() * np.sqrt(252)\n",
    "\n",
    "    def sharpe_ratio(self):\n",
    "        excess_return = self.returns - self.rfr / 252\n",
    "        return excess_return.mean() / excess_return.std() * np.sqrt(252)\n",
    "\n",
    "    def max_drawdown(self):\n",
    "        cum_returns = (1 + self.returns).cumprod()\n",
    "        peak = cum_returns.cummax()\n",
    "        drawdown = (cum_returns - peak) / peak\n",
    "        return drawdown.min()\n",
    "\n",
    "    def calmar_ratio(self):\n",
    "        dd = abs(self.max_drawdown())\n",
    "        return self.annualized_return() / dd if dd != 0 else np.nan\n",
    "\n",
    "    def t_test(self):\n",
    "        t_stat, p_value = stats.ttest_1samp(self.returns.dropna(), 0)\n",
    "        return round(t_stat, 3), round(p_value, 4)\n",
    "\n",
    "    def is_significant(self, alpha=0.05):\n",
    "        _, p = self.t_test()\n",
    "        return p < alpha\n",
    "\n",
    "    def summary(self):\n",
    "        return {\n",
    "            \"Total Return (%)\": round(100 * self.total_return(), 2),\n",
    "            \"Annualized Return (%)\": round(100 * self.annualized_return(), 2),\n",
    "            \"Annualized Volatility (%)\": round(100 * self.annualized_volatility(), 2),\n",
    "            \"Sharpe Ratio\": round(self.sharpe_ratio(), 2),\n",
    "            \"Max Drawdown (%)\": round(100 * self.max_drawdown(), 2),\n",
    "            \"Calmar Ratio\": round(self.calmar_ratio(), 2)\n",
    "        }"
   ]
  },
  {
   "cell_type": "code",
   "execution_count": 16,
   "id": "4621ae60-fbf2-4f97-a98f-e32a8379c6a2",
   "metadata": {},
   "outputs": [],
   "source": [
    "analytics = StrategyAnalytics(df)"
   ]
  },
  {
   "cell_type": "code",
   "execution_count": 18,
   "id": "a2088e39-e2a7-4042-9236-0a95aaf214b2",
   "metadata": {},
   "outputs": [
    {
     "name": "stdout",
     "output_type": "stream",
     "text": [
      "t-stat: 0.318, p-value: 0.7507\n",
      "Statistically significant? No\n"
     ]
    }
   ],
   "source": [
    "t, p = analytics.t_test()\n",
    "print(f\"t-stat: {t}, p-value: {p}\")\n",
    "print(\"Statistically significant?\", \"Yes\" if analytics.is_significant() else \"No\")"
   ]
  },
  {
   "cell_type": "code",
   "execution_count": 20,
   "id": "5b404f23-c08f-417c-b133-195d33a3577b",
   "metadata": {},
   "outputs": [],
   "source": [
    "# Bootstrapping addition\n",
    "def bootstrap_returns(returns, n_bootstraps=1000):\n",
    "    observed_mean = returns.mean()\n",
    "    sample_means = []\n",
    "\n",
    "    for _ in range(n_bootstraps):\n",
    "        sample = returns.sample(frac=1, replace=True)\n",
    "        sample_means.append(sample.mean())\n",
    "\n",
    "    p_value = np.mean([1 if abs(m) >= abs(observed_mean) else 0 for m in sample_means])\n",
    "    return round(p_value, 4)"
   ]
  },
  {
   "cell_type": "code",
   "execution_count": 22,
   "id": "021f46f8-fad9-49ed-b1db-8881c8d99036",
   "metadata": {},
   "outputs": [
    {
     "name": "stdout",
     "output_type": "stream",
     "text": [
      "Bootstrap p-value: 0.749\n"
     ]
    }
   ],
   "source": [
    "boot_p = bootstrap_returns(df['strategy'])\n",
    "print(f\"Bootstrap p-value: {boot_p}\")"
   ]
  },
  {
   "cell_type": "code",
   "execution_count": 24,
   "id": "de0cd706-4bc2-42c4-9804-6c662587af80",
   "metadata": {},
   "outputs": [
    {
     "data": {
      "text/html": [
       "<div>\n",
       "<style scoped>\n",
       "    .dataframe tbody tr th:only-of-type {\n",
       "        vertical-align: middle;\n",
       "    }\n",
       "\n",
       "    .dataframe tbody tr th {\n",
       "        vertical-align: top;\n",
       "    }\n",
       "\n",
       "    .dataframe thead th {\n",
       "        text-align: right;\n",
       "    }\n",
       "</style>\n",
       "<table border=\"1\" class=\"dataframe\">\n",
       "  <thead>\n",
       "    <tr style=\"text-align: right;\">\n",
       "      <th></th>\n",
       "      <th>0</th>\n",
       "    </tr>\n",
       "  </thead>\n",
       "  <tbody>\n",
       "    <tr>\n",
       "      <th>Total Return (%)</th>\n",
       "      <td>-1.22</td>\n",
       "    </tr>\n",
       "    <tr>\n",
       "      <th>Annualized Return (%)</th>\n",
       "      <td>-0.25</td>\n",
       "    </tr>\n",
       "    <tr>\n",
       "      <th>Annualized Volatility (%)</th>\n",
       "      <td>30.62</td>\n",
       "    </tr>\n",
       "    <tr>\n",
       "      <th>Sharpe Ratio</th>\n",
       "      <td>0.15</td>\n",
       "    </tr>\n",
       "    <tr>\n",
       "      <th>Max Drawdown (%)</th>\n",
       "      <td>-53.6</td>\n",
       "    </tr>\n",
       "    <tr>\n",
       "      <th>Calmar Ratio</th>\n",
       "      <td>-0.0</td>\n",
       "    </tr>\n",
       "    <tr>\n",
       "      <th>t-stat</th>\n",
       "      <td>0.318</td>\n",
       "    </tr>\n",
       "    <tr>\n",
       "      <th>p-value</th>\n",
       "      <td>0.7507</td>\n",
       "    </tr>\n",
       "    <tr>\n",
       "      <th>Significant (p&lt;0.05)</th>\n",
       "      <td>False</td>\n",
       "    </tr>\n",
       "  </tbody>\n",
       "</table>\n",
       "</div>"
      ],
      "text/plain": [
       "                                0\n",
       "Total Return (%)            -1.22\n",
       "Annualized Return (%)       -0.25\n",
       "Annualized Volatility (%)   30.62\n",
       "Sharpe Ratio                 0.15\n",
       "Max Drawdown (%)            -53.6\n",
       "Calmar Ratio                 -0.0\n",
       "t-stat                      0.318\n",
       "p-value                    0.7507\n",
       "Significant (p<0.05)        False"
      ]
     },
     "execution_count": 24,
     "metadata": {},
     "output_type": "execute_result"
    }
   ],
   "source": [
    "report = pd.DataFrame([analytics.summary()])\n",
    "report['t-stat'], report['p-value'] = analytics.t_test()\n",
    "report['Significant (p<0.05)'] = analytics.is_significant()\n",
    "report.T  # Transpose for easier viewing"
   ]
  },
  {
   "cell_type": "code",
   "execution_count": null,
   "id": "eb9df2a4-548f-4255-abb0-1e15b14833a4",
   "metadata": {},
   "outputs": [],
   "source": []
  }
 ],
 "metadata": {
  "kernelspec": {
   "display_name": "Python (tf_env)",
   "language": "python",
   "name": "tf_env"
  },
  "language_info": {
   "codemirror_mode": {
    "name": "ipython",
    "version": 3
   },
   "file_extension": ".py",
   "mimetype": "text/x-python",
   "name": "python",
   "nbconvert_exporter": "python",
   "pygments_lexer": "ipython3",
   "version": "3.10.18"
  }
 },
 "nbformat": 4,
 "nbformat_minor": 5
}
