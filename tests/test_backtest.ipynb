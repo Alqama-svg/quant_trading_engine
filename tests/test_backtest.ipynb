{
 "cells": [
  {
   "cell_type": "code",
   "execution_count": 1,
   "id": "13c10f2e-a838-494b-aab9-7204407ae9cc",
   "metadata": {},
   "outputs": [],
   "source": [
    "import sys\n",
    "import os\n",
    "sys.path.append(os.path.abspath(\"..\"))"
   ]
  },
  {
   "cell_type": "code",
   "execution_count": 3,
   "id": "0f2b392a-901d-4a75-9d47-a8f70453e3da",
   "metadata": {},
   "outputs": [],
   "source": [
    "import sys\n",
    "sys.path.append(\".\")"
   ]
  },
  {
   "cell_type": "code",
   "execution_count": 13,
   "id": "ed6fc922-c81d-49c9-b374-59ed21b92665",
   "metadata": {},
   "outputs": [
    {
     "name": "stderr",
     "output_type": "stream",
     "text": [
      "[*********************100%***********************]  1 of 1 completed\n",
      "ok\n",
      "\n",
      "----------------------------------------------------------------------\n",
      "Ran 1 test in 0.139s\n",
      "\n",
      "OK\n"
     ]
    },
    {
     "data": {
      "text/plain": [
       "<unittest.runner.TextTestResult run=1 errors=0 failures=0>"
      ]
     },
     "execution_count": 13,
     "metadata": {},
     "output_type": "execute_result"
    }
   ],
   "source": [
    "import unittest\n",
    "from strategies.mean_reversion import MeanReversionStrategy\n",
    "from engine.backtest import BacktestEngine\n",
    "\n",
    "class TestBacktestEngine(unittest.TestCase):\n",
    "    def test_equity_curve_positive(self):\n",
    "        strat = MeanReversionStrategy()\n",
    "        bt = BacktestEngine('AAPL', '2020-01-01', '2024-12-31', strat)\n",
    "        equity = bt.results['equity_curve']\n",
    "        self.assertGreater(equity.iloc[-1], 0)\n",
    "\n",
    "suite = unittest.TestLoader().loadTestsFromTestCase(TestBacktestEngine)\n",
    "unittest.TextTestRunner(verbosity=2).run(suite)"
   ]
  },
  {
   "cell_type": "code",
   "execution_count": null,
   "id": "d52cde5e-2c47-4ddd-b26e-598584bd91bd",
   "metadata": {},
   "outputs": [],
   "source": []
  }
 ],
 "metadata": {
  "kernelspec": {
   "display_name": "Python (tf_env)",
   "language": "python",
   "name": "tf_env"
  },
  "language_info": {
   "codemirror_mode": {
    "name": "ipython",
    "version": 3
   },
   "file_extension": ".py",
   "mimetype": "text/x-python",
   "name": "python",
   "nbconvert_exporter": "python",
   "pygments_lexer": "ipython3",
   "version": "3.10.18"
  }
 },
 "nbformat": 4,
 "nbformat_minor": 5
}
