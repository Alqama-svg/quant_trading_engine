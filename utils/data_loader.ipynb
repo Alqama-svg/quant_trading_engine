{
 "cells": [
  {
   "cell_type": "code",
   "execution_count": 1,
   "id": "7167cbcb-b5da-40ff-a75a-31ba0e6beac7",
   "metadata": {},
   "outputs": [],
   "source": [
    "import yfinance as yf\n",
    "import pandas as pd\n",
    "import numpy as np\n",
    "import seaborn as sns\n",
    "import matplotlib.pyplot as plt\n",
    "sns.set()"
   ]
  },
  {
   "cell_type": "code",
   "execution_count": 3,
   "id": "d6602eb7-03fa-414d-9cca-5bd318e8b5fa",
   "metadata": {},
   "outputs": [],
   "source": [
    "def load_price_data(ticker, start_date, end_date, column='Close'):\n",
    "    \"\"\"\n",
    "    Downloads historical price data for a given ticker.\n",
    "\n",
    "    Args:\n",
    "        ticker (str): Stock or asset symbol.\n",
    "        start_date (str): Start date in 'YYYY-MM-DD' format.\n",
    "        end_date (str): End date in 'YYYY-MM-DD' format.\n",
    "        column (str): Which price column to use (default 'Adj Close').\n",
    "\n",
    "    Returns:\n",
    "        pd.DataFrame: DataFrame with a single 'price' column.\n",
    "    \"\"\"\n",
    "    df = yf.download(ticker, start=start_date, end=end_date)[[column]].copy()\n",
    "    df.columns = ['price']\n",
    "    df.dropna(inplace=True)\n",
    "    return df"
   ]
  },
  {
   "cell_type": "code",
   "execution_count": 5,
   "id": "1e32ffb9-ebff-4d51-b32b-cd77c7f81ef6",
   "metadata": {},
   "outputs": [],
   "source": [
    "def load_multiple_prices(tickers, start_date, end_date):\n",
    "    \"\"\"\n",
    "    Loads adjusted close prices for multiple tickers.\n",
    "\n",
    "    Returns:\n",
    "        pd.DataFrame: Combined DataFrame with tickers as columns.\n",
    "    \"\"\"\n",
    "    data = {}\n",
    "    for ticker in tickers:\n",
    "        df = load_price_data(ticker, start_date, end_date)\n",
    "        data[ticker] = df['price']\n",
    "    return pd.DataFrame(data).dropna()\n"
   ]
  }
 ],
 "metadata": {
  "kernelspec": {
   "display_name": "Python (tf_env)",
   "language": "python",
   "name": "tf_env"
  },
  "language_info": {
   "codemirror_mode": {
    "name": "ipython",
    "version": 3
   },
   "file_extension": ".py",
   "mimetype": "text/x-python",
   "name": "python",
   "nbconvert_exporter": "python",
   "pygments_lexer": "ipython3",
   "version": "3.10.18"
  }
 },
 "nbformat": 4,
 "nbformat_minor": 5
}
